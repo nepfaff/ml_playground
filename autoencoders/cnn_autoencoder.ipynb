{
 "cells": [
  {
   "cell_type": "code",
   "execution_count": null,
   "metadata": {},
   "outputs": [],
   "source": [
    "## General imports\n",
    "import os\n",
    "\n",
    "import numpy as np\n",
    "import torch\n",
    "import torch.nn as nn"
   ]
  },
  {
   "cell_type": "code",
   "execution_count": null,
   "metadata": {},
   "outputs": [],
   "source": [
    "## Notebook config\n",
    "use_saved_model_if_exists = False\n",
    "save_trained_model = True\n",
    "model_saving_path = \"./models/cnn_autoencoder.pt\"\n",
    "\n",
    "if not os.path.exists(\"./models\"):\n",
    "    os.mkdir(\"./models\")"
   ]
  },
  {
   "cell_type": "code",
   "execution_count": null,
   "metadata": {},
   "outputs": [],
   "source": [
    "# Use GPU if available\n",
    "device = \"cuda\" if torch.cuda.is_available() else \"cpu\"\n",
    "is_device_cuda = device==\"cuda\"\n",
    "print(f\"Device is {device}\")"
   ]
  },
  {
   "cell_type": "code",
   "execution_count": null,
   "metadata": {},
   "outputs": [],
   "source": [
    "from data_loading import get_MNIST_train_validation_test_dataloaders\n",
    "\n",
    "train_dataloader, _, test_dataloader = get_MNIST_train_validation_test_dataloaders(\n",
    "    batch_size_train=64,\n",
    "    batch_size_test=1,\n",
    "    train_split=0.0, # Don't use a validation set\n",
    "    use_cuda=is_device_cuda,\n",
    "    filepath=\"./../datasets\"\n",
    ")"
   ]
  },
  {
   "cell_type": "code",
   "execution_count": null,
   "metadata": {},
   "outputs": [],
   "source": [
    "## Model training\n",
    "from autoencoder import get_cnn_mnist_autoencoder\n",
    "from training import train_autoencoder\n",
    "\n",
    "model = get_cnn_mnist_autoencoder()\n",
    "if use_saved_model_if_exists and os.path.exists(model_saving_path):\n",
    "    model.load_state_dict(torch.load(model_saving_path))\n",
    "    model.to(device)\n",
    "else:\n",
    "    model.to(device)\n",
    "    train_autoencoder(\n",
    "        model=model,\n",
    "        optimizer=torch.optim.Adam(model.parameters(), lr=1e-3),\n",
    "        criterion=nn.MSELoss(),\n",
    "        dataloader=train_dataloader,\n",
    "        epochs=30,\n",
    "        device=device,\n",
    "    )\n",
    "\n",
    "    if save_trained_model:\n",
    "        torch.save(model.state_dict(), model_saving_path)\n"
   ]
  },
  {
   "cell_type": "code",
   "execution_count": null,
   "metadata": {},
   "outputs": [],
   "source": [
    "## Model evaluation\n",
    "from evaluation import get_autoencoder_original_reconstructed_pairs, plot_original_reconstructed_per_class_grayscale\n",
    "\n",
    "originals, reconstructed, labels = get_autoencoder_original_reconstructed_pairs(model, test_dataloader, device)\n",
    "\n",
    "mse = np.mean(np.square(originals - reconstructed))\n",
    "print(f\"MSE is {mse}\")\n",
    "\n",
    "plot_original_reconstructed_per_class_grayscale(\n",
    "    originals, reconstructed, torch.Tensor(labels), subplot_shape=(4,6), figsize=(24,16)\n",
    ")"
   ]
  }
 ],
 "metadata": {
  "kernelspec": {
   "display_name": "Python 3.8.10 64-bit",
   "language": "python",
   "name": "python3"
  },
  "language_info": {
   "codemirror_mode": {
    "name": "ipython",
    "version": 3
   },
   "file_extension": ".py",
   "mimetype": "text/x-python",
   "name": "python",
   "nbconvert_exporter": "python",
   "pygments_lexer": "ipython3",
   "version": "3.8.10"
  },
  "orig_nbformat": 4,
  "vscode": {
   "interpreter": {
    "hash": "916dbcbb3f70747c44a77c7bcd40155683ae19c65e1c03b4aa3499c5328201f1"
   }
  }
 },
 "nbformat": 4,
 "nbformat_minor": 2
}
